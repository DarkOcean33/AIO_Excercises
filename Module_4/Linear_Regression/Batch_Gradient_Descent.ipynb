{
 "cells": [
  {
   "cell_type": "code",
   "execution_count": 1,
   "id": "70c9e756",
   "metadata": {},
   "outputs": [],
   "source": [
    "import numpy as np\n",
    "from numpy import genfromtxt\n",
    "import matplotlib.pyplot as plt"
   ]
  },
  {
   "cell_type": "code",
   "execution_count": 2,
   "id": "31de8fda",
   "metadata": {},
   "outputs": [
    {
     "name": "stdout",
     "output_type": "stream",
     "text": [
      "200\n"
     ]
    }
   ],
   "source": [
    "data = np.genfromtxt('./Content/advertising.csv', delimiter =',', skip_header =1)\n",
    "N = data.shape[0]\n",
    "print(N)\n",
    "X = data[:, :3]\n",
    "y = data[:,3:]"
   ]
  },
  {
   "cell_type": "code",
   "execution_count": 3,
   "id": "0deab537",
   "metadata": {},
   "outputs": [],
   "source": [
    "def mean_normalization(X):\n",
    "  N = len(X)\n",
    "  maxi = np.max(X)\n",
    "  mini = np.min(X)\n",
    "  avg = np.mean(X)\n",
    "  X_b = (X - avg) / (maxi - mini)\n",
    "  X_b = np.hstack([np.ones((N, 1)), X_b])\n",
    "  return X_b, maxi, mini, avg\n",
    "\n",
    "X_b, maxi, mini, avg = mean_normalization(X)"
   ]
  },
  {
   "cell_type": "code",
   "execution_count": 4,
   "id": "9ae998fa",
   "metadata": {},
   "outputs": [],
   "source": [
    "def batch_gradient_descent(X_b, y, n_epochs =100, learning_rate =0.01):\n",
    "  thetas = np.asarray([[1.16270837], [-0.81960489], [1.39501033] , [0.29763545]])\n",
    "  N = data.shape[0]\n",
    "  thetas_path = [thetas]\n",
    "  losses = []\n",
    "  for i in range(n_epochs):\n",
    "    #predict:\n",
    "    y_hat = X_b.dot(thetas)\n",
    "\n",
    "    #loss:\n",
    "    loss = (y_hat - y) * (y_hat - y)\n",
    "\n",
    "    #gradient_loss:\n",
    "    gradient_loss = 2*(y_hat - y)/N\n",
    "\n",
    "    #compute gradient:\n",
    "    compute_gradient = X_b.T.dot(gradient_loss)\n",
    "\n",
    "    #update thetas:\n",
    "    thetas = thetas - learning_rate * compute_gradient\n",
    "    thetas_path.append(thetas)\n",
    "\n",
    "    #Add loss_mean\n",
    "    loss_mean = np.sum(loss)/N\n",
    "    losses.append(loss_mean)\n",
    "  return thetas_path, losses"
   ]
  },
  {
   "cell_type": "code",
   "execution_count": 5,
   "id": "54df43c8",
   "metadata": {},
   "outputs": [
    {
     "data": {
      "image/png": "[encoded data removed]",
      "text/plain": [
       "<Figure size 640x480 with 1 Axes>"
      ]
     },
     "metadata": {},
     "output_type": "display_data"
    }
   ],
   "source": [
    "bgd_thetas, losses = batch_gradient_descent(X_b, y, n_epochs = 100, learning_rate=0.01)\n",
    "x_axis = list(range(100))\n",
    "plt.plot(x_axis, losses[:100], color =\"r\")\n",
    "plt.show()"
   ]
  },
  {
   "cell_type": "code",
   "execution_count": 6,
   "id": "bd62aec3",
   "metadata": {},
   "outputs": [
    {
     "name": "stdout",
     "output_type": "stream",
     "text": [
      "6716.46\n"
     ]
    }
   ],
   "source": [
    "bgd_thetas , losses = batch_gradient_descent ( X_b , y , n_epochs =100 , learning_rate = 0.01)\n",
    "print(round(sum(losses), 2))"
   ]
  }
 ],
 "metadata": {
  "kernelspec": {
   "display_name": "base",
   "language": "python",
   "name": "python3"
  },
  "language_info": {
   "codemirror_mode": {
    "name": "ipython",
    "version": 3
   },
   "file_extension": ".py",
   "mimetype": "text/x-python",
   "name": "python",
   "nbconvert_exporter": "python",
   "pygments_lexer": "ipython3",
   "version": "3.13.9"
  }
 },
 "nbformat": 4,
 "nbformat_minor": 5
}
